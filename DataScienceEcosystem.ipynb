{
 "cells": [
  {
   "cell_type": "markdown",
   "id": "61d708d9",
   "metadata": {},
   "source": [
    "# Data Science Tools and Ecosystem"
   ]
  },
  {
   "cell_type": "markdown",
   "id": "f7dd2f80",
   "metadata": {},
   "source": [
    "In this notebook, Data Science Tools and Ecosystem are summarised."
   ]
  },
  {
   "cell_type": "markdown",
   "id": "03619e38",
   "metadata": {},
   "source": [
    "**Objective:**  \n",
    "* List popular languages for Data Science  \n",
    "* List commonly used libraries used by Data Scientists  \n",
    "* Data Science Tools  \n",
    "* Arithmetic  \n",
    "* Minutes to Hours"
   ]
  },
  {
   "cell_type": "markdown",
   "id": "cd0b4e6a",
   "metadata": {},
   "source": [
    "Some of the popular languages that Data Scientists use are:  \n",
    "1. Python  \n",
    "2. R  \n",
    "4. SQL  \n",
    "5. Java\n",
    "3. Julia  "
   ]
  },
  {
   "cell_type": "markdown",
   "id": "cdd16bbe",
   "metadata": {},
   "source": [
    "Some of the commonly used libraries used by Data Scientists include:  \n",
    "1. Tensorflow  \n",
    "2. NumPy  \n",
    "3. Pandas  \n",
    "4. Scikit-learn  \n",
    "5. Matplotlib"
   ]
  },
  {
   "cell_type": "markdown",
   "id": "0f6f0a29",
   "metadata": {},
   "source": [
    "|Data Science Tools|  \n",
    "|------------------|  \n",
    "|Jupyter Notebook|\n",
    "|IBM Watson Studio|  \n",
    "|Apache Hadoop|\n",
    "|Google Data Studio|"
   ]
  },
  {
   "cell_type": "markdown",
   "id": "e6d70510",
   "metadata": {},
   "source": [
    "### Below are a few examples of evaluating arithmetic expressions in Python"
   ]
  },
  {
   "cell_type": "code",
   "execution_count": 2,
   "id": "d0b888bc",
   "metadata": {},
   "outputs": [
    {
     "data": {
      "text/plain": [
       "17"
      ]
     },
     "execution_count": 2,
     "metadata": {},
     "output_type": "execute_result"
    }
   ],
   "source": [
    "#This a simple arithmetic expression to multiply then add integers\n",
    "(3*4)+5"
   ]
  },
  {
   "cell_type": "code",
   "execution_count": 5,
   "id": "3b106da7",
   "metadata": {},
   "outputs": [
    {
     "data": {
      "text/plain": [
       "3.3333333333333335"
      ]
     },
     "execution_count": 5,
     "metadata": {},
     "output_type": "execute_result"
    }
   ],
   "source": [
    "#This will convert 200 minutes to hours by diving by 60\n",
    "minutes = 200\n",
    "hours = minutes/60\n",
    "hours"
   ]
  },
  {
   "cell_type": "markdown",
   "id": "2bebfc7b",
   "metadata": {},
   "source": [
    "## Author:\n",
    "Wahyu Azizi"
   ]
  }
 ],
 "metadata": {
  "kernelspec": {
   "display_name": "Python 3 (ipykernel)",
   "language": "python",
   "name": "python3"
  },
  "language_info": {
   "codemirror_mode": {
    "name": "ipython",
    "version": 3
   },
   "file_extension": ".py",
   "mimetype": "text/x-python",
   "name": "python",
   "nbconvert_exporter": "python",
   "pygments_lexer": "ipython3",
   "version": "3.10.9"
  }
 },
 "nbformat": 4,
 "nbformat_minor": 5
}
